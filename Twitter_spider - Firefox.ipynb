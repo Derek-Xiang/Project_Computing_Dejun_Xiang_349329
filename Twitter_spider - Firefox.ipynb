{
 "cells": [
  {
   "cell_type": "code",
   "execution_count": 1,
   "metadata": {},
   "outputs": [],
   "source": [
    "## Author: Dejun Xiang\n",
    "## ID: 349329\n",
    "## Project: Donald Trump analytics\n",
    "## Supervisor: Prof. Richard O. Sinnott\n",
    "## Twitter crawler --> Selenium + Firefox webdriver\n",
    "\n",
    "import time\n",
    "import pandas as pd\n",
    "import numpy as np\n",
    "from selenium import webdriver\n",
    "from selenium.webdriver.firefox.options import Options"
   ]
  },
  {
   "cell_type": "code",
   "execution_count": 2,
   "metadata": {},
   "outputs": [],
   "source": [
    "#------------build the url we need to crawl-------------------------\n",
    "'''\n",
    "Function: build the url of the page we need the \n",
    "          search key world is \"Donald Trump\", in English\n",
    "input: y1,m1,d1 --> the since date\n",
    "       y2,m2,d2 --> the until date\n",
    "Output: return the url with string type\n",
    "'''\n",
    "def build_url(y1,m1,d1,y2,m2,d2):\n",
    "    return \"https://twitter.com/search?l=en&q=Donald%20Trump%20since%3A\"+since_date(y1,m1,d1)+\"%20until%3A\"+until_date(y2,m2,d2)+\"&src=typd\"\n",
    "\n",
    "def since_date(y,m,d):\n",
    "    if len(str(m))==1:\n",
    "        m = \"0\"+ str(m)\n",
    "    if len(str(d))==1:\n",
    "        d = \"0\"+ str(d)\n",
    "    return str(y)+\"-\"+str(m)+\"-\"+str(d)\n",
    "\n",
    "def until_date(y,m,d):\n",
    "    if len(str(m))==1:\n",
    "        m = \"0\"+ str(m)\n",
    "    if len(str(d))==1:\n",
    "        d = \"0\"+ str(d)\n",
    "    return str(y)+\"-\"+str(m)+\"-\"+str(d)\n",
    "#-------------------------------------------------------------------\n",
    "\n",
    "\n",
    "'''\n",
    "Function: scroll down to the bottom of the page\n",
    "Input: webdriver\n",
    "'''\n",
    "def scroll_bottom(driver):\n",
    "    lastHeight = 0\n",
    "    count = 0\n",
    "    while True:\n",
    "        # in case being traped by infinite loop\n",
    "        if count > 500:\n",
    "            break\n",
    "        count += 1\n",
    "        \n",
    "        driver.execute_script(\"window.scrollTo(0, document.body.scrollHeight);\")\n",
    "        # for the browser to process\n",
    "        time.sleep(3)\n",
    "        \n",
    "        newHeight = driver.execute_script(\"return document.body.scrollHeight\")\n",
    "        # newHeight=lastHeight means we are at the bottom\n",
    "        if newHeight == lastHeight:\n",
    "            break\n",
    "        lastHeight = newHeight\n"
   ]
  },
  {
   "cell_type": "code",
   "execution_count": 6,
   "metadata": {
    "scrolled": true
   },
   "outputs": [
    {
     "name": "stdout",
     "output_type": "stream",
     "text": [
      "finish scroll -->2018-01-16\n"
     ]
    },
    {
     "name": "stderr",
     "output_type": "stream",
     "text": [
      "C:\\Users\\Derek\\Anaconda3\\lib\\site-packages\\ipykernel_launcher.py:41: FutureWarning: convert_objects is deprecated.  To re-infer data dtypes for object columns, use DataFrame.infer_objects()\n",
      "For all other conversions use the data-type specific converters pd.to_datetime, pd.to_timedelta and pd.to_numeric.\n",
      "C:\\Users\\Derek\\Anaconda3\\lib\\site-packages\\ipykernel_launcher.py:43: FutureWarning: convert_objects is deprecated.  To re-infer data dtypes for object columns, use DataFrame.infer_objects()\n",
      "For all other conversions use the data-type specific converters pd.to_datetime, pd.to_timedelta and pd.to_numeric.\n"
     ]
    },
    {
     "name": "stdout",
     "output_type": "stream",
     "text": [
      "2018-01-16 finished\n"
     ]
    }
   ],
   "source": [
    "# only focus on 01/01/2018 to 13/05/2018\n",
    "y = 2018\n",
    "\n",
    "#in order to have header \n",
    "count_write = 1\n",
    "\n",
    "# get the result from 01/01/2018 to 13/05/2018\n",
    "for m in range(1,5):\n",
    "    for d in range(1,32):\n",
    "        if m==5 and d >= 14:\n",
    "            break\n",
    "\n",
    "        # skip 29th, 30th,31th Feb.\n",
    "        if m==2 and d >= 29:\n",
    "            continue\n",
    "\n",
    "        try:\n",
    "\n",
    "            firefoxprofile = webdriver.FirefoxProfile()\n",
    "            firefoxprofile.set_preference(\"intl.accept_languages\", 'en,en_US')\n",
    "            driver = webdriver.Firefox(firefoxprofile)\n",
    "\n",
    "            url =build_url(y,m,d,y,m,(d+1))\n",
    "            driver.get(url)\n",
    "            scroll_bottom(driver)\n",
    "            print(\"finish scroll -->\"+ since_date(y,m,d))\n",
    "\n",
    "            # get all the tweets\n",
    "            tweets = driver.find_elements_by_class_name(\"js-tweet-text-container\")\n",
    "            # get all id\n",
    "            ids = driver.find_elements_by_class_name(\"FullNameGroup\")\n",
    "            # get all posting date\n",
    "            tweet_date = driver.find_elements_by_class_name(\"_timestamp\")\n",
    "            # number of retreets\n",
    "            retreets = driver.find_elements_by_xpath('//button[@class=\"ProfileTweet-actionButtonUndo js-actionButton js-actionRetweet\"]//span[@class=\"ProfileTweet-actionCountForPresentation\"]')\n",
    "            # number of likes\n",
    "            likes = driver.find_elements_by_xpath('//button[@class=\"ProfileTweet-actionButton js-actionButton js-actionFavorite\"]//span[@class=\"ProfileTweet-actionCountForPresentation\"]')\n",
    "            # number of replys\n",
    "            replys = driver.find_elements_by_xpath('//button[@class=\"ProfileTweet-actionButton js-actionButton js-actionReply\"]//span[@class=\"ProfileTweet-actionCountForPresentation\"]')\n",
    "            dates = driver.find_elements_by_xpath('//span[@data-long-form=\"true\"]')\n",
    "\n",
    "\n",
    "            df = pd.DataFrame(data = [id.text for id in ids],columns=[\"id\"])\n",
    "            df['tweet'] = np.array([tweet.text for tweet in tweets])\n",
    "            df['likes'] = np.array([like.text for like in likes])\n",
    "            df['replys'] = np.array([reply.get_attribute('textContent') for reply in replys])\n",
    "            #filled up the empty block with zero\n",
    "            df.replys = df[['replys']].convert_objects(convert_numeric=True).fillna(0)\n",
    "            df['retreets'] = np.array([retreet.get_attribute('textContent') for retreet in retreets])\n",
    "            df.retreets = df[['retreets']].convert_objects(convert_numeric=True).fillna(0)\n",
    "            df['dates'] = np.array([date.text for date in dates])\n",
    "\n",
    "            if count_write == 1:\n",
    "                df.to_csv(r\"C:\\Users\\Derek\\Desktop\\twitter\\16.csv\",index=False)\n",
    "            df.to_csv(r\"C:\\Users\\Derek\\Desktop\\twitter\\16.csv\",mode='a',index=False,header=False)\n",
    "            count_write += 1\n",
    "            print(until_date(y,m,d)+\" finished\")\n",
    "            driver.close()\n",
    "        except Exception as e:\n",
    "            # do not stop execution, just log and continue\n",
    "            driver.close()\n",
    "            print(e)\n"
   ]
  }
 ],
 "metadata": {
  "kernelspec": {
   "display_name": "Python 3",
   "language": "python",
   "name": "python3"
  },
  "language_info": {
   "codemirror_mode": {
    "name": "ipython",
    "version": 3
   },
   "file_extension": ".py",
   "mimetype": "text/x-python",
   "name": "python",
   "nbconvert_exporter": "python",
   "pygments_lexer": "ipython3",
   "version": "3.7.0"
  }
 },
 "nbformat": 4,
 "nbformat_minor": 2
}
